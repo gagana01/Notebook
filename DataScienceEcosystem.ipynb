{
 "cells": [
  {
   "cell_type": "markdown",
   "id": "c964932b",
   "metadata": {},
   "source": [
    "# Data Science Tools and Ecosystem"
   ]
  },
  {
   "cell_type": "markdown",
   "id": "9ffeac10",
   "metadata": {},
   "source": [
    "## In this notebook, Data Science Tools and Ecosystem are summarized."
   ]
  },
  {
   "cell_type": "markdown",
   "id": "2c34158e",
   "metadata": {},
   "source": [
    "__Objectives:__\n",
    "- popular languages like python, r , scala , Tensorflow , SQL\n",
    "- libraries like numpy , pandas, seaborn\n",
    "- tools like mysql , Apache Spark , Jupyter Lab  "
   ]
  },
  {
   "cell_type": "markdown",
   "id": "7d923aa8",
   "metadata": {},
   "source": [
    "__Some of the popular languages that Data Scientists use are:__\n",
    "1. Python\n",
    "1. R language\n",
    "1. SQL\n",
    "1. Scala"
   ]
  },
  {
   "cell_type": "markdown",
   "id": "bb4f5022",
   "metadata": {},
   "source": [
    "__Some of the commonly used libraries used by Data Scientists include:__\n",
    "1. Pandas\n",
    "1. Matplotlib\n",
    "1. Scikitlearn\n",
    "1. Keras"
   ]
  },
  {
   "cell_type": "markdown",
   "id": "261ad20c",
   "metadata": {},
   "source": [
    "|Data Science Tools|\n",
    "|------------------|\n",
    "|Jupyter Notebook  |\n",
    "|R Studio          |\n",
    "|Apache Zeppilin   |"
   ]
  },
  {
   "cell_type": "markdown",
   "id": "a125a8f6",
   "metadata": {},
   "source": [
    "### Below are a few examples of evaluating arithmetic expressions in Python."
   ]
  },
  {
   "cell_type": "code",
   "execution_count": 1,
   "id": "28b088de",
   "metadata": {},
   "outputs": [
    {
     "name": "stdout",
     "output_type": "stream",
     "text": [
      "17\n"
     ]
    }
   ],
   "source": [
    "# This a simple arithmetic expression to mutiply then add integers\n",
    "print ((3*4)+5)"
   ]
  },
  {
   "cell_type": "code",
   "execution_count": 2,
   "id": "166a82f3",
   "metadata": {},
   "outputs": [
    {
     "name": "stdout",
     "output_type": "stream",
     "text": [
      "3:20\n"
     ]
    }
   ],
   "source": [
    "# this will convert 200 minutes to hours by diving by 60\n",
    "total_minutes = 200\n",
    "hours = total_minutes // 60\n",
    "minutes = total_minutes % 60\n",
    "time = \"{}:{}\".format(hours, minutes)\n",
    "\n",
    "print(time)"
   ]
  },
  {
   "cell_type": "markdown",
   "id": "332a52b0",
   "metadata": {},
   "source": [
    "## Author :\n",
    "Gagana Sindhu "
   ]
  }
 ],
 "metadata": {
  "kernelspec": {
   "display_name": "Python 3 (ipykernel)",
   "language": "python",
   "name": "python3"
  },
  "language_info": {
   "codemirror_mode": {
    "name": "ipython",
    "version": 3
   },
   "file_extension": ".py",
   "mimetype": "text/x-python",
   "name": "python",
   "nbconvert_exporter": "python",
   "pygments_lexer": "ipython3",
   "version": "3.9.7"
  }
 },
 "nbformat": 4,
 "nbformat_minor": 5
}
